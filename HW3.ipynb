{
 "cells": [
  {
   "cell_type": "code",
   "execution_count": null,
   "metadata": {
    "collapsed": false
   },
   "outputs": [],
   "source": [
    "%matplotlib inline\n",
    "import numpy as np\n",
    "import pandas as pd\n",
    "import statsmodels.api as sm\n",
    "import matplotlib.pyplot as plt\n",
    "from patsy import dmatrices\n",
    "from sklearn.linear_model import LogisticRegression\n",
    "from sklearn.cross_validation import train_test_split\n",
    "from sklearn import metrics\n",
    "from sklearn.cross_validation import cross_val_score\n",
    "from sklearn import svm\n",
    "from sklearn import linear_model, datasets \n",
    "from sklearn.metrics import accuracy_score\n",
    "from sklearn.metrics import f1_score\n",
    "import math\n",
    "import operator \n",
    "from collections import Counter"
   ]
  },
  {
   "cell_type": "markdown",
   "metadata": {},
   "source": [
    "#### Importing the titanic dataset "
   ]
  },
  {
   "cell_type": "code",
   "execution_count": null,
   "metadata": {
    "collapsed": false
   },
   "outputs": [],
   "source": [
    "data = pd.read_csv('train.csv',header = None)"
   ]
  },
  {
   "cell_type": "markdown",
   "metadata": {},
   "source": [
    "## Problem 1 (Logistical Regression Default) "
   ]
  },
  {
   "cell_type": "code",
   "execution_count": null,
   "metadata": {
    "collapsed": true
   },
   "outputs": [],
   "source": [
    "# Picking the parameters class, gender, age\n",
    "y = data.ix[0:len(data),1].values \n",
    "X = data.iloc[0:len(data), [2,4,5]].values"
   ]
  },
  {
   "cell_type": "code",
   "execution_count": null,
   "metadata": {
    "collapsed": false
   },
   "outputs": [],
   "source": [
    "# Splitting the data set 70, 15, 15\n",
    "X_train, X_test, y_train, y_test = train_test_split(X, y, test_size=0.30, random_state=42)\n",
    "X_test, X_dev, y_test, y_dev = train_test_split(X_test,y_test,test_size=0.50, random_state=42)"
   ]
  },
  {
   "cell_type": "code",
   "execution_count": null,
   "metadata": {
    "collapsed": false
   },
   "outputs": [
    {
     "name": "stdout",
     "output_type": "stream",
     "text": [
      "0.792307692308\n",
      "0.732673267327\n"
     ]
    }
   ],
   "source": [
    "# Fitting the model and printing out the accuracey and f1 score for the dev set predictions \n",
    "model = LogisticRegression()\n",
    "model.fit(X_train, y_train)\n",
    "IsDeadOrNah = model.predict(X_dev)\n",
    "print(accuracy_score(y_dev, IsDeadOrNah))\n",
    "print(f1_score(y_dev, IsDeadOrNah, average = 'binary'))"
   ]
  },
  {
   "cell_type": "markdown",
   "metadata": {
    "collapsed": false
   },
   "source": [
    "## Problem 2 (Logistical Regression Tweaked) "
   ]
  },
  {
   "cell_type": "code",
   "execution_count": null,
   "metadata": {
    "collapsed": true
   },
   "outputs": [],
   "source": [
    "# Picking the parameters class, gender, age\n",
    "y = data.ix[0:len(data),1].values \n",
    "X = data.iloc[0:len(data), [2,4,5]].values"
   ]
  },
  {
   "cell_type": "code",
   "execution_count": null,
   "metadata": {
    "collapsed": true
   },
   "outputs": [],
   "source": [
    "# Splitting the data set 70, 15, 15\n",
    "X_train, X_test, y_train, y_test = train_test_split(X, y, test_size=0.30, random_state=42)\n",
    "X_test, X_dev, y_test, y_dev = train_test_split(X_test,y_test,test_size=0.50, random_state=42)"
   ]
  },
  {
   "cell_type": "code",
   "execution_count": null,
   "metadata": {
    "collapsed": false
   },
   "outputs": [
    {
     "name": "stdout",
     "output_type": "stream",
     "text": [
      "0.761538461538\n",
      "0.730434782609\n"
     ]
    }
   ],
   "source": [
    "# Fitting the model and printing out the accuracey and f1 score for the dev set predictions\n",
    "model = LogisticRegression(C = 0.5, penalty = 'l1', class_weight = 'balanced')\n",
    "model.fit(X_train, y_train)\n",
    "IsDeadOrNah = model.predict(X_dev)\n",
    "print(accuracy_score(y_dev, IsDeadOrNah))\n",
    "print(f1_score(y_dev, IsDeadOrNah, average = 'binary'))"
   ]
  },
  {
   "cell_type": "markdown",
   "metadata": {},
   "source": [
    "## Problem 3 (KNN) "
   ]
  },
  {
   "cell_type": "code",
   "execution_count": null,
   "metadata": {
    "collapsed": false
   },
   "outputs": [],
   "source": [
    "# Picking the parameters class, gender, age\n",
    "#Added label to the end of X for ease of use, ignored in most of the code\n",
    "y = data.ix[0:len(data),1].values \n",
    "X = data.iloc[0:len(data), [2,4,5,1]].values"
   ]
  },
  {
   "cell_type": "code",
   "execution_count": null,
   "metadata": {
    "collapsed": true
   },
   "outputs": [],
   "source": [
    "# Splitting the data set 70, 15, 15\n",
    "X_train, X_test, y_train, y_test = train_test_split(X, y, test_size=0.30, random_state=42)\n",
    "X_test, X_dev, y_test, y_dev = train_test_split(X_test,y_test,test_size=0.50, random_state=42)"
   ]
  },
  {
   "cell_type": "code",
   "execution_count": null,
   "metadata": {
    "collapsed": true
   },
   "outputs": [],
   "source": [
    "#method to get the distance between two points\n",
    "def Distance(point1, point2, length):\n",
    "    distance = 0\n",
    "    for x in range(length):\n",
    "        distance += math.sqrt(pow(point1[x] - point2[x],2))\n",
    "        \n",
    "    return distance\n",
    "\n",
    "#main kNN algorithm uses the distance method to pair up points to their respective neighbors \n",
    "def kNN(training, test, k):\n",
    "    distances = []\n",
    "    for x in range(len(training)):\n",
    "        tempDistance = Distance(test, training[x], len(test)-1)\n",
    "        distances.append((training[x], tempDistance))\n",
    "    distances.sort(key=operator.itemgetter(1))\n",
    "    neighbors = []\n",
    "    for x in range(k):\n",
    "        neighbors.append(distances[x][0])\n",
    "    return neighbors\n",
    "\n",
    "#secondary method used to improve the accuracy by voting on which neighbors are pair                                            \n",
    "def Vote(neighbors):\n",
    "    votes = {}\n",
    "    for x in range(len(neighbors)):\n",
    "        neighbor = neighbors[x][-1]\n",
    "        if neighbor in votes:\n",
    "            votes[neighbor] += 1\n",
    "        else:\n",
    "            votes[neighbor] = 1\n",
    "    CollectVotes = sorted(votes.items(), key=operator.itemgetter(1), reverse=True)\n",
    "    return CollectVotes[0][0]\n",
    "\n",
    "#method to test the accuracy \n",
    "def getAccuracy(testSet, predictions):              \n",
    "    correct = 0\n",
    "    for x in range(len(testSet)):\n",
    "        if testSet[x][-1] == predictions[x]:\n",
    "            correct += 1\n",
    "    return (correct/float(len(testSet))) \n"
   ]
  },
  {
   "cell_type": "code",
   "execution_count": null,
   "metadata": {
    "collapsed": false
   },
   "outputs": [],
   "source": [
    "#running all the methods \n",
    "kResult =[]\n",
    "for n in range(1, 40,2):\n",
    "    correct=0\n",
    "    predictions=[]\n",
    "    for x in range(len(X_dev)):\n",
    "        neighbors = kNN(X_train, X_dev[x], n)\n",
    "        result = Vote(neighbors)\n",
    "        predictions.append(result)\n",
    "    for x in range(len(X_dev)):\n",
    "        if X_dev[x][-1] == predictions[x]:\n",
    "            correct += 1\n",
    "    acc = (correct/float(len(X_dev)))\n",
    "    kResult.append([n,acc])\n",
    "\n",
    "#plotting peak k value preformance \n",
    "kResult = pd.DataFrame(kResult, columns=[\"n\", \"acc\"])\n",
    "plt.plot(kResult.n, kResult.acc)\n",
    "plt.title(\"Accuracy with K\")\n",
    "plt.show()"
   ]
  },
  {
   "cell_type": "markdown",
   "metadata": {},
   "source": [
    "## Problem 4 (kNN vs Logistical Regression)"
   ]
  },
  {
   "cell_type": "code",
   "execution_count": null,
   "metadata": {
    "collapsed": true
   },
   "outputs": [],
   "source": [
    "# Picking the parameters class, gender, age\n",
    "y = data.ix[0:len(data),1].values \n",
    "X = data.iloc[0:len(data), [2,4,5]].values\n",
    "\n",
    "# Splitting the data set 70, 15, 15\n",
    "X_train, X_test, y_train, y_test = train_test_split(X, y, test_size=0.30, random_state=42)\n",
    "X_test, X_dev, y_test, y_dev = train_test_split(X_test,y_test,test_size=0.50, random_state=42)"
   ]
  },
  {
   "cell_type": "code",
   "execution_count": null,
   "metadata": {
    "collapsed": false
   },
   "outputs": [],
   "source": [
    "# Fitting the model and printing out the accuracey and f1 score for the dev set predictions \n",
    "model = LogisticRegression()\n",
    "model.fit(X_train, y_train)\n",
    "IsDeadOrNah = model.predict(X_test)\n",
    "print(accuracy_score(y_test, IsDeadOrNah))\n",
    "print(f1_score(y_test, IsDeadOrNah, average = 'binary'))"
   ]
  },
  {
   "cell_type": "code",
   "execution_count": null,
   "metadata": {
    "collapsed": true
   },
   "outputs": [],
   "source": [
    "# Picking the parameters class, gender, age\n",
    "y = data.ix[0:len(data),1].values \n",
    "X = data.iloc[0:len(data), [2,4,5,1]].values\n",
    "\n",
    "# Splitting the data set 70, 15, 15\n",
    "X_train, X_test, y_train, y_test = train_test_split(X, y, test_size=0.30, random_state=42)\n",
    "X_test, X_dev, y_test, y_dev = train_test_split(X_test,y_test,test_size=0.50, random_state=42)"
   ]
  },
  {
   "cell_type": "code",
   "execution_count": null,
   "metadata": {
    "collapsed": false
   },
   "outputs": [],
   "source": [
    "correct=0\n",
    "k=9\n",
    "predictions=[]\n",
    "for x in range(len(X_test)):\n",
    "    neighbors = kNN(X_test, X_test[x], k)\n",
    "    result = Vote(neighbors)\n",
    "    predictions.append(result)\n",
    "    \n",
    "print(accuracy_score(y_test, predictions))\n",
    "print (f1_score(y_test, predictions, average = 'binary'))"
   ]
  }
 ],
 "metadata": {
  "kernelspec": {
   "display_name": "Python 3",
   "language": "python",
   "name": "python3"
  },
  "language_info": {
   "codemirror_mode": {
    "name": "ipython",
    "version": 3
   },
   "file_extension": ".py",
   "mimetype": "text/x-python",
   "name": "python",
   "nbconvert_exporter": "python",
   "pygments_lexer": "ipython3",
   "version": "3.5.1"
  }
 },
 "nbformat": 4,
 "nbformat_minor": 0
}
